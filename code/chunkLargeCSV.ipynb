{
 "cells": [
  {
   "cell_type": "code",
   "execution_count": 1,
   "id": "b90834d0-4093-4f3a-8bb5-4ec262370f57",
   "metadata": {},
   "outputs": [],
   "source": [
    "import pandas as pd\n",
    "import os"
   ]
  },
  {
   "cell_type": "code",
   "execution_count": 2,
   "id": "82dc440f-a251-4d53-b16c-761f3195099a",
   "metadata": {},
   "outputs": [],
   "source": [
    "# Define global variables\n",
    "INPUT_FILE = \"./input_files/National_Fire_Occurrence_1992-2020.csv\"  # Replace with input CSV file path\n",
    "CHUNK_SIZE = 900000 # Adjust chunksize as needed\n",
    "OUTPUT_DIR = \"/Users/brendapriebe/Desktop/chunks\" # Replace with output path as needed\n",
    "SELECTED_COLUMN_INDEXES = [2, 4, 9, 15, 21, 22, 23, 25, 26, 27, 28, 29, 31, 32, 33, 34, 36, 38, 39] # Replace with desired col index numbers"
   ]
  },
  {
   "cell_type": "code",
   "execution_count": 3,
   "id": "5e4022a2-c1dc-44f0-8523-59076d1fc553",
   "metadata": {},
   "outputs": [
    {
     "name": "stderr",
     "output_type": "stream",
     "text": [
      "/var/folders/lq/vxt5qp993bdgvld4cy_f12qc0000gn/T/ipykernel_53210/2502204027.py:21: DtypeWarning: Columns (15,28,39) have mixed types. Specify dtype option on import or set low_memory=False.\n",
      "  for i, chunk in enumerate(reader):\n"
     ]
    },
    {
     "name": "stdout",
     "output_type": "stream",
     "text": [
      "Chunk 1 saved to /Users/brendapriebe/Desktop/chunks/chunk_1.csv\n"
     ]
    },
    {
     "name": "stderr",
     "output_type": "stream",
     "text": [
      "/var/folders/lq/vxt5qp993bdgvld4cy_f12qc0000gn/T/ipykernel_53210/2502204027.py:21: DtypeWarning: Columns (15,27,28,39) have mixed types. Specify dtype option on import or set low_memory=False.\n",
      "  for i, chunk in enumerate(reader):\n"
     ]
    },
    {
     "name": "stdout",
     "output_type": "stream",
     "text": [
      "Chunk 2 saved to /Users/brendapriebe/Desktop/chunks/chunk_2.csv\n"
     ]
    },
    {
     "name": "stderr",
     "output_type": "stream",
     "text": [
      "/var/folders/lq/vxt5qp993bdgvld4cy_f12qc0000gn/T/ipykernel_53210/2502204027.py:21: DtypeWarning: Columns (27) have mixed types. Specify dtype option on import or set low_memory=False.\n",
      "  for i, chunk in enumerate(reader):\n"
     ]
    },
    {
     "name": "stdout",
     "output_type": "stream",
     "text": [
      "Chunk 3 saved to /Users/brendapriebe/Desktop/chunks/chunk_3.csv\n"
     ]
    }
   ],
   "source": [
    "def chunk_csv(input_filepath=INPUT_FILE, chunk_size=CHUNK_SIZE, output_dir=OUTPUT_DIR, column_indexes=SELECTED_COLUMN_INDEXES):\n",
    "    \"\"\"\n",
    "    Reads a large CSV file in chunks, selects specific columns by index, and saves each chunk as a separate CSV file.\n",
    "\n",
    "    Args:\n",
    "        input_filepath (str): The path to the input CSV file.\n",
    "        chunk_size (int, optional): The number of rows per chunk.\n",
    "        output_dir (str, optional): The directory to save the chunked CSV files.\n",
    "        column_indexes (list, optional): List of column indexes to keep in the chunked CSV files.\n",
    "    \"\"\"\n",
    "    if not os.path.exists(output_dir):\n",
    "        os.makedirs(output_dir)\n",
    "\n",
    "    # Read the first row separately to determine column names\n",
    "    df_head = pd.read_csv(input_filepath, nrows=1)\n",
    "    selected_columns = [df_head.columns[i] for i in column_indexes]  # Map index numbers to column names\n",
    "\n",
    "    # Read the CSV in chunks using the selected column names\n",
    "    reader = pd.read_csv(input_filepath, chunksize=chunk_size, usecols=selected_columns)\n",
    "\n",
    "    for i, chunk in enumerate(reader):\n",
    "        output_filepath = os.path.join(output_dir, f\"chunk_{i+1}.csv\")\n",
    "        chunk.to_csv(output_filepath, index=False)\n",
    "        print(f\"Chunk {i+1} saved to {output_filepath}\")\n",
    "\n",
    "if __name__ == \"__main__\":\n",
    "    chunk_csv()\n"
   ]
  },
  {
   "cell_type": "code",
   "execution_count": null,
   "id": "5397665c-8d2a-4ded-9633-c20579c1d338",
   "metadata": {},
   "outputs": [],
   "source": []
  }
 ],
 "metadata": {
  "kernelspec": {
   "display_name": "Python 3 (ipykernel)",
   "language": "python",
   "name": "python3"
  },
  "language_info": {
   "codemirror_mode": {
    "name": "ipython",
    "version": 3
   },
   "file_extension": ".py",
   "mimetype": "text/x-python",
   "name": "python",
   "nbconvert_exporter": "python",
   "pygments_lexer": "ipython3",
   "version": "3.12.7"
  }
 },
 "nbformat": 4,
 "nbformat_minor": 5
}
